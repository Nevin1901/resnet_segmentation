{
 "cells": [
  {
   "cell_type": "code",
   "execution_count": 1,
   "metadata": {},
   "outputs": [
    {
     "name": "stdout",
     "output_type": "stream",
     "text": [
      "Collecting segmentation-models-pytorch\n",
      "  Downloading segmentation_models_pytorch-0.2.1-py3-none-any.whl (88 kB)\n",
      "\u001b[K     |████████████████████████████████| 88 kB 5.8 MB/s eta 0:00:011\n",
      "\u001b[?25hRequirement already satisfied: torchvision>=0.5.0 in /home/nevin/.local/lib/python3.8/site-packages (from segmentation-models-pytorch) (0.10.1)\n",
      "Collecting pretrainedmodels==0.7.4\n",
      "  Downloading pretrainedmodels-0.7.4.tar.gz (58 kB)\n",
      "\u001b[K     |████████████████████████████████| 58 kB 13.0 MB/s eta 0:00:01\n",
      "\u001b[?25hCollecting efficientnet-pytorch==0.6.3\n",
      "  Downloading efficientnet_pytorch-0.6.3.tar.gz (16 kB)\n",
      "Collecting timm==0.4.12\n",
      "  Downloading timm-0.4.12-py3-none-any.whl (376 kB)\n",
      "\u001b[K     |████████████████████████████████| 376 kB 34.5 MB/s eta 0:00:01\n",
      "\u001b[?25hRequirement already satisfied: pillow>=5.3.0 in /home/nevin/.local/lib/python3.8/site-packages (from torchvision>=0.5.0->segmentation-models-pytorch) (9.1.0)\n",
      "Requirement already satisfied: numpy in /home/nevin/.local/lib/python3.8/site-packages (from torchvision>=0.5.0->segmentation-models-pytorch) (1.22.3)\n",
      "Requirement already satisfied: torch==1.9.1 in /home/nevin/.local/lib/python3.8/site-packages (from torchvision>=0.5.0->segmentation-models-pytorch) (1.9.1)\n",
      "Collecting munch\n",
      "  Downloading munch-2.5.0-py2.py3-none-any.whl (10 kB)\n",
      "Requirement already satisfied: tqdm in /home/nevin/.local/lib/python3.8/site-packages (from pretrainedmodels==0.7.4->segmentation-models-pytorch) (4.62.2)\n",
      "Requirement already satisfied: typing-extensions in /home/nevin/.local/lib/python3.8/site-packages (from torch==1.9.1->torchvision>=0.5.0->segmentation-models-pytorch) (3.7.4.3)\n",
      "Requirement already satisfied: six in /home/nevin/.local/lib/python3.8/site-packages (from munch->pretrainedmodels==0.7.4->segmentation-models-pytorch) (1.15.0)\n",
      "Building wheels for collected packages: pretrainedmodels, efficientnet-pytorch\n",
      "  Building wheel for pretrainedmodels (setup.py) ... \u001b[?25ldone\n",
      "\u001b[?25h  Created wheel for pretrainedmodels: filename=pretrainedmodels-0.7.4-py3-none-any.whl size=60963 sha256=d1e004326c6924d4e955a366c69528e8449de3745654e0c533e546f0036b7bcf\n",
      "  Stored in directory: /home/nevin/.cache/pip/wheels/ed/fa/b9/5c82b59d905f95542a192b883c0cc0082407ea2f54beb2f9e6\n",
      "  Building wheel for efficientnet-pytorch (setup.py) ... \u001b[?25ldone\n",
      "\u001b[?25h  Created wheel for efficientnet-pytorch: filename=efficientnet_pytorch-0.6.3-py3-none-any.whl size=12421 sha256=320cb2a5177439d359dfbd57ce4ea812c11a3a4b3e663031bc5f6a4fda56a600\n",
      "  Stored in directory: /home/nevin/.cache/pip/wheels/6b/48/d7/9a3ea4072e0d735f895d5e58f9a679903dcb4e90a55418955b\n",
      "Successfully built pretrainedmodels efficientnet-pytorch\n",
      "Installing collected packages: munch, pretrainedmodels, efficientnet-pytorch, timm, segmentation-models-pytorch\n",
      "Successfully installed efficientnet-pytorch-0.6.3 munch-2.5.0 pretrainedmodels-0.7.4 segmentation-models-pytorch-0.2.1 timm-0.4.12\n",
      "Collecting pytorch-lightning\n",
      "  Downloading pytorch_lightning-1.6.3-py3-none-any.whl (584 kB)\n",
      "\u001b[K     |████████████████████████████████| 584 kB 5.6 MB/s eta 0:00:01\n",
      "\u001b[?25hCollecting PyYAML>=5.4\n",
      "  Downloading PyYAML-6.0-cp38-cp38-manylinux_2_5_x86_64.manylinux1_x86_64.manylinux_2_12_x86_64.manylinux2010_x86_64.whl (701 kB)\n",
      "\u001b[K     |████████████████████████████████| 701 kB 44.5 MB/s eta 0:00:01\n",
      "\u001b[?25hRequirement already satisfied: fsspec[http]!=2021.06.0,>=2021.05.0 in /home/nevin/.local/lib/python3.8/site-packages (from pytorch-lightning) (2022.3.0)\n",
      "Requirement already satisfied: numpy>=1.17.2 in /home/nevin/.local/lib/python3.8/site-packages (from pytorch-lightning) (1.22.3)\n",
      "Requirement already satisfied: torch>=1.8.* in /home/nevin/.local/lib/python3.8/site-packages (from pytorch-lightning) (1.9.1)\n",
      "Requirement already satisfied: tqdm>=4.57.0 in /home/nevin/.local/lib/python3.8/site-packages (from pytorch-lightning) (4.62.2)\n",
      "Collecting typing-extensions>=4.0.0\n",
      "  Downloading typing_extensions-4.2.0-py3-none-any.whl (24 kB)\n",
      "Requirement already satisfied: packaging>=17.0 in /home/nevin/.local/lib/python3.8/site-packages (from pytorch-lightning) (21.3)\n",
      "Collecting torchmetrics>=0.4.1\n",
      "  Downloading torchmetrics-0.8.2-py3-none-any.whl (409 kB)\n",
      "\u001b[K     |████████████████████████████████| 409 kB 49.5 MB/s eta 0:00:01\n",
      "\u001b[?25hCollecting pyDeprecate<0.4.0,>=0.3.1\n",
      "  Downloading pyDeprecate-0.3.2-py3-none-any.whl (10 kB)\n",
      "Requirement already satisfied: tensorboard>=2.2.0 in /home/nevin/.local/lib/python3.8/site-packages (from pytorch-lightning) (2.6.0)\n",
      "Requirement already satisfied: aiohttp; extra == \"http\" in /usr/lib/python3/dist-packages (from fsspec[http]!=2021.06.0,>=2021.05.0->pytorch-lightning) (3.6.2)\n",
      "Requirement already satisfied: requests; extra == \"http\" in /home/nevin/.local/lib/python3.8/site-packages (from fsspec[http]!=2021.06.0,>=2021.05.0->pytorch-lightning) (2.26.0)\n",
      "Requirement already satisfied: pyparsing!=3.0.5,>=2.0.2 in /usr/lib/python3/dist-packages (from packaging>=17.0->pytorch-lightning) (2.4.6)\n",
      "Requirement already satisfied: protobuf>=3.6.0 in /home/nevin/.local/lib/python3.8/site-packages (from tensorboard>=2.2.0->pytorch-lightning) (3.18.1)\n",
      "Requirement already satisfied: setuptools>=41.0.0 in /usr/lib/python3/dist-packages (from tensorboard>=2.2.0->pytorch-lightning) (45.2.0)\n",
      "Requirement already satisfied: tensorboard-data-server<0.7.0,>=0.6.0 in /home/nevin/.local/lib/python3.8/site-packages (from tensorboard>=2.2.0->pytorch-lightning) (0.6.1)\n",
      "Requirement already satisfied: markdown>=2.6.8 in /usr/lib/python3/dist-packages (from tensorboard>=2.2.0->pytorch-lightning) (3.1.1)\n",
      "Requirement already satisfied: werkzeug>=0.11.15 in /home/nevin/.local/lib/python3.8/site-packages (from tensorboard>=2.2.0->pytorch-lightning) (1.0.1)\n",
      "Requirement already satisfied: google-auth-oauthlib<0.5,>=0.4.1 in /home/nevin/.local/lib/python3.8/site-packages (from tensorboard>=2.2.0->pytorch-lightning) (0.4.6)\n",
      "Requirement already satisfied: wheel>=0.26 in /home/nevin/.local/lib/python3.8/site-packages (from tensorboard>=2.2.0->pytorch-lightning) (0.37.0)\n",
      "Requirement already satisfied: absl-py>=0.4 in /home/nevin/.local/lib/python3.8/site-packages (from tensorboard>=2.2.0->pytorch-lightning) (0.14.1)\n",
      "Requirement already satisfied: tensorboard-plugin-wit>=1.6.0 in /home/nevin/.local/lib/python3.8/site-packages (from tensorboard>=2.2.0->pytorch-lightning) (1.8.0)\n",
      "Requirement already satisfied: google-auth<2,>=1.6.3 in /home/nevin/.local/lib/python3.8/site-packages (from tensorboard>=2.2.0->pytorch-lightning) (1.35.0)\n",
      "Requirement already satisfied: grpcio>=1.24.3 in /home/nevin/.local/lib/python3.8/site-packages (from tensorboard>=2.2.0->pytorch-lightning) (1.41.0)\n",
      "Requirement already satisfied: idna<4,>=2.5; python_version >= \"3\" in /usr/lib/python3/dist-packages (from requests; extra == \"http\"->fsspec[http]!=2021.06.0,>=2021.05.0->pytorch-lightning) (2.8)\n",
      "Requirement already satisfied: urllib3<1.27,>=1.21.1 in /home/nevin/.local/lib/python3.8/site-packages (from requests; extra == \"http\"->fsspec[http]!=2021.06.0,>=2021.05.0->pytorch-lightning) (1.26.9)\n",
      "Requirement already satisfied: certifi>=2017.4.17 in /usr/lib/python3/dist-packages (from requests; extra == \"http\"->fsspec[http]!=2021.06.0,>=2021.05.0->pytorch-lightning) (2019.11.28)\n",
      "Requirement already satisfied: charset-normalizer~=2.0.0; python_version >= \"3\" in /home/nevin/.local/lib/python3.8/site-packages (from requests; extra == \"http\"->fsspec[http]!=2021.06.0,>=2021.05.0->pytorch-lightning) (2.0.7)\n",
      "Requirement already satisfied: requests-oauthlib>=0.7.0 in /usr/lib/python3/dist-packages (from google-auth-oauthlib<0.5,>=0.4.1->tensorboard>=2.2.0->pytorch-lightning) (1.0.0)\n",
      "Requirement already satisfied: six in /home/nevin/.local/lib/python3.8/site-packages (from absl-py>=0.4->tensorboard>=2.2.0->pytorch-lightning) (1.15.0)\n",
      "Requirement already satisfied: cachetools<5.0,>=2.0.0 in /home/nevin/.local/lib/python3.8/site-packages (from google-auth<2,>=1.6.3->tensorboard>=2.2.0->pytorch-lightning) (4.2.4)\n",
      "Requirement already satisfied: pyasn1-modules>=0.2.1 in /home/nevin/.local/lib/python3.8/site-packages (from google-auth<2,>=1.6.3->tensorboard>=2.2.0->pytorch-lightning) (0.2.8)\n",
      "Requirement already satisfied: rsa<5,>=3.1.4; python_version >= \"3.6\" in /home/nevin/.local/lib/python3.8/site-packages (from google-auth<2,>=1.6.3->tensorboard>=2.2.0->pytorch-lightning) (4.7.2)\n",
      "Requirement already satisfied: pyasn1<0.5.0,>=0.4.6 in /home/nevin/.local/lib/python3.8/site-packages (from pyasn1-modules>=0.2.1->google-auth<2,>=1.6.3->tensorboard>=2.2.0->pytorch-lightning) (0.4.8)\n",
      "\u001b[31mERROR: tensorflow 2.6.0 has requirement numpy~=1.19.2, but you'll have numpy 1.22.3 which is incompatible.\u001b[0m\n",
      "\u001b[31mERROR: tensorflow 2.6.0 has requirement typing-extensions~=3.7.4, but you'll have typing-extensions 4.2.0 which is incompatible.\u001b[0m\n",
      "Installing collected packages: PyYAML, typing-extensions, pyDeprecate, torchmetrics, pytorch-lightning\n",
      "  Attempting uninstall: typing-extensions\n",
      "    Found existing installation: typing-extensions 3.7.4.3\n",
      "    Uninstalling typing-extensions-3.7.4.3:\n",
      "      Successfully uninstalled typing-extensions-3.7.4.3\n",
      "Successfully installed PyYAML-6.0 pyDeprecate-0.3.2 pytorch-lightning-1.6.3 torchmetrics-0.8.2 typing-extensions-4.2.0\n"
     ]
    }
   ],
   "source": [
    "!pip3 install segmentation-models-pytorch\n",
    "!pip3 install pytorch-lightning"
   ]
  },
  {
   "cell_type": "code",
   "execution_count": 4,
   "metadata": {},
   "outputs": [],
   "source": [
    "import os\n",
    "import torch\n",
    "import matplotlib.pyplot as plt\n",
    "import pytorch_lightning as pl\n",
    "import segmentation_models_pytorch as smp\n",
    "\n",
    "from pprint import pprint\n",
    "from torch.utils.data import DataLoader\n",
    "\n",
    "from segmentation_models_pytorch.datasets import SimpleOxfordPetDataset\n"
   ]
  },
  {
   "cell_type": "code",
   "execution_count": 6,
   "metadata": {},
   "outputs": [
    {
     "name": "stderr",
     "output_type": "stream",
     "text": [
      "images.tar.gz: 100%|██████████| 755M/755M [00:11<00:00, 71.2MB/s]    \n",
      "annotations.tar.gz: 100%|██████████| 18.3M/18.3M [00:01<00:00, 13.7MB/s]\n"
     ]
    }
   ],
   "source": [
    "root = \".\"\n",
    "SimpleOxfordPetDataset.download(root)"
   ]
  },
  {
   "cell_type": "code",
   "execution_count": 7,
   "metadata": {},
   "outputs": [
    {
     "name": "stdout",
     "output_type": "stream",
     "text": [
      "train size - 3312 - valid size - 368 - test size - 3669\n"
     ]
    }
   ],
   "source": [
    "train_dataset = SimpleOxfordPetDataset(root, \"train\")\n",
    "valid_dataset = SimpleOxfordPetDataset(root, \"valid\")\n",
    "test_dataset = SimpleOxfordPetDataset(root, \"test\")\n",
    "\n",
    "print(f\"train size - {len(train_dataset)} - valid size - {len(valid_dataset)} - test size - {len(test_dataset)}\")"
   ]
  },
  {
   "cell_type": "code",
   "execution_count": 30,
   "metadata": {},
   "outputs": [
    {
     "name": "stdout",
     "output_type": "stream",
     "text": [
      "(3, 256, 256)\n"
     ]
    },
    {
     "data": {
      "image/png": "[encoded data removed]",
      "text/plain": [
       "<Figure size 432x288 with 1 Axes>"
      ]
     },
     "metadata": {
      "needs_background": "light"
     },
     "output_type": "display_data"
    }
   ],
   "source": [
    "sample = train_dataset[0]\n",
    "print(sample[\"image\"].shape)\n",
    "plt.imshow(sample[\"image\"].transpose(1, 2, 0))\n",
    "plt.imshow(sample[\"mask\"].squeeze())\n",
    "plt.show()"
   ]
  },
  {
   "cell_type": "code",
   "execution_count": null,
   "metadata": {},
   "outputs": [],
   "source": [
    "class PetModel(pl.LightningModule):\n",
    "    def __init__(self, arch, encoder_name, in_channels, out_classes, **kwargs):\n",
    "        super().__init__()\n",
    "        self.model = smp.create_model(\n",
    "            arch, encoder_name=encoder_name, in_channels=in_channels, classes=out_classes, **kwargs\n",
    "        )\n",
    "        \n",
    "        params = smp.encoders.get_preprocessing_params(encoder_name)\n",
    "        self.register_buffer(\"std\", torch.tensor(params[\"std\"]).view(1, 3, 1, 1))\n",
    "        self.register_buffer(\"mean\", torch.tensor(params[\"mean\"]).view(1, 3, 1, 1))\n",
    "\n",
    "        self.loss_fn = smp.losses.DiceLoss()"
   ]
  }
 ],
 "metadata": {
  "interpreter": {
   "hash": "916dbcbb3f70747c44a77c7bcd40155683ae19c65e1c03b4aa3499c5328201f1"
  },
  "kernelspec": {
   "display_name": "Python 3.8.10 64-bit",
   "language": "python",
   "name": "python3"
  },
  "language_info": {
   "codemirror_mode": {
    "name": "ipython",
    "version": 3
   },
   "file_extension": ".py",
   "mimetype": "text/x-python",
   "name": "python",
   "nbconvert_exporter": "python",
   "pygments_lexer": "ipython3",
   "version": "3.8.10"
  },
  "orig_nbformat": 4
 },
 "nbformat": 4,
 "nbformat_minor": 2
}
